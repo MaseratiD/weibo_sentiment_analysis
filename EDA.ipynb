{
 "cells": [
  {
   "cell_type": "code",
   "execution_count": 1,
   "metadata": {
    "ExecuteTime": {
     "end_time": "2020-11-02T11:18:02.787382Z",
     "start_time": "2020-11-02T11:18:02.231676Z"
    }
   },
   "outputs": [],
   "source": [
    "import jieba\n",
    "import pandas as pd\n",
    "import numpy as np\n",
    "import requests\n",
    "import datetime\n",
    "import hashlib\n",
    "import base64\n",
    "import hmac\n",
    "import json\n",
    "import time"
   ]
  },
  {
   "cell_type": "code",
   "execution_count": 6,
   "metadata": {
    "ExecuteTime": {
     "end_time": "2020-10-30T08:35:12.244017Z",
     "start_time": "2020-10-30T08:35:12.228013Z"
    },
    "code_folding": [
     0
    ]
   },
   "outputs": [],
   "source": [
    "class get_result(object):\n",
    "    def __init__(self,host,text,BusinessArgs):\n",
    "        # 应用ID（到控制台获取）\n",
    "        self.APPID = \"5f9bc6e9\"\n",
    "        # 接口APISercet（到控制台机器翻译服务页面获取）\n",
    "        self.Secret = \"b4e7b50787941dc5f125be32b60899fb\"\n",
    "        # 接口APIKey（到控制台机器翻译服务页面获取）\n",
    "        self.APIKey= \"6678ddb9a98bf9b4fcf570cf9f52c570\"\n",
    "        \n",
    "        \n",
    "        # 以下为POST请求\n",
    "        self.Host = host\n",
    "        self.RequestUri = \"/v2/its\"\n",
    "        # 设置url\n",
    "        # print(host)\n",
    "        self.url=\"https://\"+host+self.RequestUri\n",
    "        self.HttpMethod = \"POST\"\n",
    "        self.Algorithm = \"hmac-sha256\"\n",
    "        self.HttpProto = \"HTTP/1.1\"\n",
    "\n",
    "        # 设置当前时间\n",
    "        curTime_utc = datetime.datetime.utcnow()\n",
    "        self.Date = self.httpdate(curTime_utc)\n",
    "        # 设置业务参数\n",
    "        # 语种列表参数值请参照接口文档：https://www.xfyun.cn/doc/nlp/xftrans/API.html\n",
    "        self.Text=text\n",
    "        self.BusinessArgs=BusinessArgs\n",
    "\n",
    "\n",
    "    def hashlib_256(self, res):\n",
    "        m = hashlib.sha256(bytes(res.encode(encoding='utf-8'))).digest()\n",
    "        result = \"SHA-256=\" + base64.b64encode(m).decode(encoding='utf-8')\n",
    "        return result\n",
    "\n",
    "    def httpdate(self, dt):\n",
    "        \"\"\"\n",
    "        Return a string representation of a date according to RFC 1123\n",
    "        (HTTP/1.1).\n",
    "\n",
    "        The supplied date must be in UTC.\n",
    "\n",
    "        \"\"\"\n",
    "        weekday = [\"Mon\", \"Tue\", \"Wed\", \"Thu\", \"Fri\", \"Sat\", \"Sun\"][dt.weekday()]\n",
    "        month = [\"Jan\", \"Feb\", \"Mar\", \"Apr\", \"May\", \"Jun\", \"Jul\", \"Aug\", \"Sep\",\n",
    "                 \"Oct\", \"Nov\", \"Dec\"][dt.month - 1]\n",
    "        return \"%s, %02d %s %04d %02d:%02d:%02d GMT\" % (weekday, dt.day, month,\n",
    "                                                        dt.year, dt.hour, dt.minute, dt.second)\n",
    "\n",
    "    def generateSignature(self, digest):\n",
    "        signatureStr = \"host: \" + self.Host + \"\\n\"\n",
    "        signatureStr += \"date: \" + self.Date + \"\\n\"\n",
    "        signatureStr += self.HttpMethod + \" \" + self.RequestUri \\\n",
    "                        + \" \" + self.HttpProto + \"\\n\"\n",
    "        signatureStr += \"digest: \" + digest\n",
    "        signature = hmac.new(bytes(self.Secret.encode(encoding='utf-8')),\n",
    "                             bytes(signatureStr.encode(encoding='utf-8')),\n",
    "                             digestmod=hashlib.sha256).digest()\n",
    "        result = base64.b64encode(signature)\n",
    "        return result.decode(encoding='utf-8')\n",
    "\n",
    "    def init_header(self, data):\n",
    "        digest = self.hashlib_256(data)\n",
    "        #print(digest)\n",
    "        sign = self.generateSignature(digest)\n",
    "        authHeader = 'api_key=\"%s\", algorithm=\"%s\", ' \\\n",
    "                     'headers=\"host date request-line digest\", ' \\\n",
    "                     'signature=\"%s\"' \\\n",
    "                     % (self.APIKey, self.Algorithm, sign)\n",
    "        #print(authHeader)\n",
    "        headers = {\n",
    "            \"Content-Type\": \"application/json\",\n",
    "            \"Accept\": \"application/json\",\n",
    "            \"Method\": \"POST\",\n",
    "            \"Host\": self.Host,\n",
    "            \"Date\": self.Date,\n",
    "            \"Digest\": digest,\n",
    "            \"Authorization\": authHeader\n",
    "        }\n",
    "        return headers\n",
    "\n",
    "    def get_body(self):\n",
    "        content = str(base64.b64encode(self.Text.encode('utf-8')), 'utf-8')\n",
    "        postdata = {\n",
    "            \"common\": {\"app_id\": self.APPID},\n",
    "            \"business\": self.BusinessArgs,\n",
    "            \"data\": {\n",
    "                \"text\": content,\n",
    "            }\n",
    "        }\n",
    "        body = json.dumps(postdata)\n",
    "        #print(body)\n",
    "        return body\n",
    "\n",
    "    def call_url(self):\n",
    "        if self.APPID == '' or self.APIKey == '' or self.Secret == '':\n",
    "            print('Appid 或APIKey 或APISecret 为空！请打开demo代码，填写相关信息。')\n",
    "        else:\n",
    "            code = 0\n",
    "            body=self.get_body()\n",
    "            headers=self.init_header(body)\n",
    "            #print(self.url)\n",
    "            response = requests.post(self.url, data=body, headers=headers,timeout=8)\n",
    "            status_code = response.status_code\n",
    "            #print(response.content)\n",
    "            if status_code!=200:\n",
    "                # 鉴权失败\n",
    "                print(\"Http请求失败，状态码：\" + str(status_code) + \"，错误信息：\" + response.text)\n",
    "                print(\"请根据错误信息检查代码，接口文档：https://www.xfyun.cn/doc/nlp/xftrans/API.html\")\n",
    "            else:\n",
    "                # 鉴权成功\n",
    "                respData = json.loads(response.text)\n",
    "                return respData['data']['result']['trans_result']['dst']\n",
    "                # 以下仅用于调试\n",
    "                code = str(respData[\"code\"])\n",
    "                if code!='0':\n",
    "                    print(\"请前往https://www.xfyun.cn/document/error-code?code=\" + code + \"查询解决办法\")\n",
    "\n"
   ]
  },
  {
   "cell_type": "code",
   "execution_count": 7,
   "metadata": {
    "ExecuteTime": {
     "end_time": "2020-10-30T08:35:26.128040Z",
     "start_time": "2020-10-30T08:35:26.123039Z"
    },
    "code_folding": [
     0
    ]
   },
   "outputs": [],
   "source": [
    "def retrans(text):\n",
    "    host = \"itrans.xfyun.cn\"\n",
    "    Args1={\"from\": \"cn\",\"to\": \"en\",}\n",
    "    Args2={\"from\": \"en\",\"to\": \"cn\",}\n",
    "    gClass1=get_result(host,text=text,BusinessArgs=Args1)\n",
    "    trans=gClass1.call_url()\n",
    "    \n",
    "    gClass2=get_result(host,text=trans,BusinessArgs=Args2)\n",
    "    return gClass2.call_url()"
   ]
  },
  {
   "cell_type": "code",
   "execution_count": 2,
   "metadata": {
    "ExecuteTime": {
     "end_time": "2020-11-02T11:18:11.235404Z",
     "start_time": "2020-11-02T11:18:11.205325Z"
    }
   },
   "outputs": [],
   "source": [
    "#data=pd.read_csv(\"multi.csv\",usecols=['title','fact','opinion','inhibition','fff','activation','moral'])\n",
    "weibodata=pd.read_csv(\"labeledData.csv\",usecols=['review','label'])"
   ]
  },
  {
   "cell_type": "code",
   "execution_count": 22,
   "metadata": {
    "ExecuteTime": {
     "end_time": "2020-11-02T11:30:23.487442Z",
     "start_time": "2020-11-02T11:30:23.477957Z"
    }
   },
   "outputs": [],
   "source": [
    "stopwords=pd.read_csv(\"cn_stopwords.txt\",encoding='utf-8',engine='python')\n"
   ]
  },
  {
   "cell_type": "code",
   "execution_count": 9,
   "metadata": {
    "ExecuteTime": {
     "end_time": "2020-11-02T11:28:42.889095Z",
     "start_time": "2020-11-02T11:28:42.886101Z"
    }
   },
   "outputs": [],
   "source": [
    "\n",
    "def cut_stop(prelist):\n",
    "    l=[i for i in jieba.lcut(prelist) if i not in stopwords]\n",
    "    return l\n",
    "    "
   ]
  },
  {
   "cell_type": "code",
   "execution_count": 5,
   "metadata": {
    "ExecuteTime": {
     "end_time": "2020-11-01T13:59:29.414936Z",
     "start_time": "2020-11-01T13:59:29.410935Z"
    }
   },
   "outputs": [],
   "source": [
    "#test['trans']=test['title'].apply(retrans)"
   ]
  },
  {
   "cell_type": "code",
   "execution_count": 23,
   "metadata": {
    "ExecuteTime": {
     "end_time": "2020-11-02T11:32:26.646797Z",
     "start_time": "2020-11-02T11:32:20.974455Z"
    }
   },
   "outputs": [],
   "source": [
    "#data['cut']=[cut_stop(i) for i in data['title'].astype(str)]\n",
    "weibodata['cut']=[cut_stop(i) for i in weibodata['review'].astype(str)]\n",
    "weibodata['fullcut']=weibodata['review'].apply(lambda x: jieba.lcut(x))"
   ]
  },
  {
   "cell_type": "code",
   "execution_count": 24,
   "metadata": {
    "ExecuteTime": {
     "end_time": "2020-11-02T11:32:45.713354Z",
     "start_time": "2020-11-02T11:32:45.701373Z"
    }
   },
   "outputs": [],
   "source": [
    "#data['length']=[ len(i) for i in data['cut']]\n",
    "weibodata['length']=[len(i) for i in weibodata['cut']]"
   ]
  },
  {
   "cell_type": "code",
   "execution_count": 25,
   "metadata": {
    "ExecuteTime": {
     "end_time": "2020-11-02T11:32:46.139610Z",
     "start_time": "2020-11-02T11:32:46.133628Z"
    }
   },
   "outputs": [
    {
     "data": {
      "text/plain": [
       "18.395692307692308"
      ]
     },
     "execution_count": 25,
     "metadata": {},
     "output_type": "execute_result"
    }
   ],
   "source": [
    "np.mean(weibodata['length'])"
   ]
  },
  {
   "cell_type": "code",
   "execution_count": 26,
   "metadata": {
    "ExecuteTime": {
     "end_time": "2020-11-02T11:32:47.755743Z",
     "start_time": "2020-11-02T11:32:47.749760Z"
    },
    "scrolled": true
   },
   "outputs": [
    {
     "data": {
      "text/plain": [
       "13.0"
      ]
     },
     "execution_count": 26,
     "metadata": {},
     "output_type": "execute_result"
    }
   ],
   "source": [
    "np.median(weibodata['length'])"
   ]
  },
  {
   "cell_type": "code",
   "execution_count": 27,
   "metadata": {
    "ExecuteTime": {
     "end_time": "2020-11-02T11:32:59.078814Z",
     "start_time": "2020-11-02T11:32:59.070299Z"
    }
   },
   "outputs": [],
   "source": [
    "weibodata=weibodata.drop(weibodata[weibodata.length>100].index)\n",
    "#data=data.drop(data[data.length>200 ].index)"
   ]
  },
  {
   "cell_type": "code",
   "execution_count": 15,
   "metadata": {
    "ExecuteTime": {
     "end_time": "2020-11-02T11:29:37.017026Z",
     "start_time": "2020-11-02T11:29:37.014034Z"
    }
   },
   "outputs": [],
   "source": [
    "#np.mean(data['length'])"
   ]
  },
  {
   "cell_type": "code",
   "execution_count": 16,
   "metadata": {
    "ExecuteTime": {
     "end_time": "2020-11-02T11:29:37.807961Z",
     "start_time": "2020-11-02T11:29:37.805963Z"
    }
   },
   "outputs": [],
   "source": [
    "#np.median(data['length'])"
   ]
  },
  {
   "cell_type": "code",
   "execution_count": 17,
   "metadata": {
    "ExecuteTime": {
     "end_time": "2020-11-02T11:29:39.263450Z",
     "start_time": "2020-11-02T11:29:38.214022Z"
    }
   },
   "outputs": [],
   "source": [
    "import matplotlib.pyplot as plt\n",
    "import numpy as np\n",
    "import matplotlib"
   ]
  },
  {
   "cell_type": "code",
   "execution_count": 18,
   "metadata": {
    "ExecuteTime": {
     "end_time": "2020-11-02T11:29:40.026624Z",
     "start_time": "2020-11-02T11:29:40.021637Z"
    }
   },
   "outputs": [],
   "source": [
    "%matplotlib inline"
   ]
  },
  {
   "cell_type": "code",
   "execution_count": 19,
   "metadata": {
    "ExecuteTime": {
     "end_time": "2020-11-02T11:29:41.290693Z",
     "start_time": "2020-11-02T11:29:40.941600Z"
    }
   },
   "outputs": [
    {
     "data": {
      "image/png": "[encoded data removed]",
      "text/plain": [
       "<Figure size 432x288 with 1 Axes>"
      ]
     },
     "metadata": {
      "needs_background": "light"
     },
     "output_type": "display_data"
    }
   ],
   "source": [
    "da=weibodata['length'].tolist()\n",
    "plt.hist(da, bins=60, facecolor=\"blue\", edgecolor=\"black\", alpha=0.7)\n",
    "matplotlib.rcParams['font.sans-serif']=['SimHei']\n",
    "plt.xlabel(\"区间\")\n",
    " # 显示纵轴标签\n",
    "plt.ylabel(\"频数\")\n",
    " # 显示图标题\n",
    "plt.title(\"频数分布直方图\")\n",
    "\n",
    "plt.show()"
   ]
  },
  {
   "cell_type": "code",
   "execution_count": 20,
   "metadata": {
    "ExecuteTime": {
     "end_time": "2020-11-02T11:29:45.130090Z",
     "start_time": "2020-11-02T11:29:44.766050Z"
    }
   },
   "outputs": [],
   "source": [
    "from gensim.models import word2vec\n",
    "import gensim"
   ]
  },
  {
   "cell_type": "code",
   "execution_count": 28,
   "metadata": {
    "ExecuteTime": {
     "end_time": "2020-11-02T11:33:09.059448Z",
     "start_time": "2020-11-02T11:33:09.046404Z"
    }
   },
   "outputs": [],
   "source": [
    "sentences=weibodata['fullcut'].tolist()"
   ]
  },
  {
   "cell_type": "code",
   "execution_count": 29,
   "metadata": {
    "ExecuteTime": {
     "end_time": "2020-11-02T11:33:17.683999Z",
     "start_time": "2020-11-02T11:33:12.574003Z"
    }
   },
   "outputs": [],
   "source": [
    "model=word2vec.Word2Vec(sentences,min_count=1)"
   ]
  },
  {
   "cell_type": "code",
   "execution_count": 30,
   "metadata": {
    "ExecuteTime": {
     "end_time": "2020-11-02T11:33:17.924340Z",
     "start_time": "2020-11-02T11:33:17.753772Z"
    }
   },
   "outputs": [],
   "source": [
    "model.save(\"weibomodel\")"
   ]
  },
  {
   "cell_type": "code",
   "execution_count": 31,
   "metadata": {
    "ExecuteTime": {
     "end_time": "2020-11-02T11:33:17.997152Z",
     "start_time": "2020-11-02T11:33:17.994167Z"
    }
   },
   "outputs": [],
   "source": [
    "vocab=model.wv.vocab\n",
    "vectors=model.wv.vectors"
   ]
  },
  {
   "cell_type": "code",
   "execution_count": 32,
   "metadata": {
    "ExecuteTime": {
     "end_time": "2020-11-02T11:33:22.429052Z",
     "start_time": "2020-11-02T11:33:20.693432Z"
    }
   },
   "outputs": [],
   "source": [
    "with open(\"wvmodel.txt\",'w',encoding='utf-8') as f:\n",
    "    f.write(str(vectors.shape[0]))\n",
    "    f.write(\" \")\n",
    "    f.write(str(vectors.shape[1]))\n",
    "    f.write(\"\\n\")\n",
    "    for voc,vec in zip(vocab,vectors):\n",
    "        f.write(str(voc)+\" \")\n",
    "        f.write(\" \".join(str(i) for i in vec))\n",
    "        f.write(\"\\n\")\n",
    "        "
   ]
  },
  {
   "cell_type": "code",
   "execution_count": 33,
   "metadata": {
    "ExecuteTime": {
     "end_time": "2020-11-02T11:33:27.477606Z",
     "start_time": "2020-11-02T11:33:27.205364Z"
    }
   },
   "outputs": [],
   "source": [
    "weibodata.to_csv(\"weibodata.csv\")"
   ]
  },
  {
   "cell_type": "code",
   "execution_count": 34,
   "metadata": {
    "ExecuteTime": {
     "end_time": "2020-11-02T12:25:49.996141Z",
     "start_time": "2020-11-02T12:25:49.179765Z"
    }
   },
   "outputs": [
    {
     "data": {
      "image/png": "[encoded data removed]",
      "text/plain": [
       "<Figure size 432x288 with 1 Axes>"
      ]
     },
     "metadata": {
      "needs_background": "light"
     },
     "output_type": "display_data"
    }
   ],
   "source": [
    "data=pd.read_csv(\"multi.csv\",usecols=['title','fact','opinion','inhibition','fff','activation','moral'])\n",
    "data['cut']=[cut_stop(i) for i in data['title'].astype(str)]\n",
    "data['length']=[ len(i) for i in data['cut']]\n",
    "data=data.drop(data[data.length>200 ].index)\n",
    "\n",
    "da=data['length'].tolist()\n",
    "plt.hist(da, bins=60, facecolor=\"blue\", edgecolor=\"black\", alpha=0.7)\n",
    "matplotlib.rcParams['font.sans-serif']=['SimHei']\n",
    "plt.xlabel(\"区间\")\n",
    " # 显示纵轴标签\n",
    "plt.ylabel(\"频数\")\n",
    " # 显示图标题\n",
    "plt.title(\"频数分布直方图\")\n",
    "\n",
    "plt.show()"
   ]
  },
  {
   "cell_type": "code",
   "execution_count": 35,
   "metadata": {
    "ExecuteTime": {
     "end_time": "2020-11-02T12:26:23.300160Z",
     "start_time": "2020-11-02T12:26:23.295146Z"
    }
   },
   "outputs": [],
   "source": [
    "data=data.drop(data[data.length>30 ].index)"
   ]
  },
  {
   "cell_type": "code",
   "execution_count": 36,
   "metadata": {
    "ExecuteTime": {
     "end_time": "2020-11-02T12:26:55.928292Z",
     "start_time": "2020-11-02T12:26:55.879406Z"
    }
   },
   "outputs": [],
   "source": [
    "data.to_csv(\"yqdata.csv\")"
   ]
  },
  {
   "cell_type": "code",
   "execution_count": null,
   "metadata": {},
   "outputs": [],
   "source": []
  }
 ],
 "metadata": {
  "kernelspec": {
   "display_name": "Python 3",
   "language": "python",
   "name": "python3"
  },
  "language_info": {
   "codemirror_mode": {
    "name": "ipython",
    "version": 3
   },
   "file_extension": ".py",
   "mimetype": "text/x-python",
   "name": "python",
   "nbconvert_exporter": "python",
   "pygments_lexer": "ipython3",
   "version": "3.8.6"
  },
  "latex_envs": {
   "LaTeX_envs_menu_present": true,
   "autoclose": false,
   "autocomplete": true,
   "bibliofile": "biblio.bib",
   "cite_by": "apalike",
   "current_citInitial": 1,
   "eqLabelWithNumbers": true,
   "eqNumInitial": 1,
   "hotkeys": {
    "equation": "Ctrl-E",
    "itemize": "Ctrl-I"
   },
   "labels_anchors": false,
   "latex_user_defs": false,
   "report_style_numbering": false,
   "user_envs_cfg": false
  },
  "varInspector": {
   "cols": {
    "lenName": 16,
    "lenType": 16,
    "lenVar": 40
   },
   "kernels_config": {
    "python": {
     "delete_cmd_postfix": "",
     "delete_cmd_prefix": "del ",
     "library": "var_list.py",
     "varRefreshCmd": "print(var_dic_list())"
    },
    "r": {
     "delete_cmd_postfix": ") ",
     "delete_cmd_prefix": "rm(",
     "library": "var_list.r",
     "varRefreshCmd": "cat(var_dic_list()) "
    }
   },
   "types_to_exclude": [
    "module",
    "function",
    "builtin_function_or_method",
    "instance",
    "_Feature"
   ],
   "window_display": false
  }
 },
 "nbformat": 4,
 "nbformat_minor": 2
}
