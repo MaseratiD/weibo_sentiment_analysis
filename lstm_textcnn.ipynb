{
 "cells": [
  {
   "cell_type": "code",
   "execution_count": 87,
   "metadata": {
    "ExecuteTime": {
     "end_time": "2020-11-23T12:24:49.907212Z",
     "start_time": "2020-11-23T12:24:49.893212Z"
    }
   },
   "outputs": [],
   "source": [
    "import torch\n",
    "import torch.nn as nn\n",
    "import torch.nn.functional as F\n",
    "import torch.utils.data.dataloader as dataloader\n",
    "import torch.optim as optim\n",
    "import torch.autograd as autograd\n",
    "import torchtext.vocab as torchvocab\n",
    "from torch.autograd import Variable\n",
    "import numpy as np\n",
    "import tqdm\n",
    "import os\n",
    "import time\n",
    "import re\n",
    "import pandas as pd\n",
    "import string\n",
    "import gensim\n",
    "import time\n",
    "import random\n",
    "import collections\n",
    "from collections import Counter\n",
    "from nltk.corpus import stopwords\n",
    "from itertools import chain\n",
    "from sklearn import manifold\n",
    "SEED = 1234\n",
    "random.seed(SEED)\n",
    "np.random.seed(SEED)\n",
    "torch.manual_seed(SEED)\n",
    "torch.backends.cudnn.deterministic = True"
   ]
  },
  {
   "cell_type": "code",
   "execution_count": 2,
   "metadata": {
    "ExecuteTime": {
     "end_time": "2020-11-23T10:53:37.551281Z",
     "start_time": "2020-11-23T10:53:37.034520Z"
    }
   },
   "outputs": [],
   "source": [
    "wvmodel=gensim.models.Word2Vec.load(\"weibomodel\").wv"
   ]
  },
  {
   "cell_type": "code",
   "execution_count": 178,
   "metadata": {
    "ExecuteTime": {
     "end_time": "2020-11-23T13:07:03.482022Z",
     "start_time": "2020-11-23T13:07:03.441971Z"
    }
   },
   "outputs": [],
   "source": [
    "data=pd.read_csv(\"yqdata.csv\",usecols=['cut','fact','opinion','inhibition','fff',\n",
    "                                      'activation','moral'])"
   ]
  },
  {
   "cell_type": "code",
   "execution_count": 179,
   "metadata": {
    "ExecuteTime": {
     "end_time": "2020-11-23T13:07:05.584754Z",
     "start_time": "2020-11-23T13:07:05.577498Z"
    }
   },
   "outputs": [],
   "source": [
    "x_data=data['cut'].values.tolist()"
   ]
  },
  {
   "cell_type": "code",
   "execution_count": 144,
   "metadata": {
    "ExecuteTime": {
     "end_time": "2020-11-23T13:01:17.848917Z",
     "start_time": "2020-11-23T13:01:17.842728Z"
    }
   },
   "outputs": [],
   "source": [
    "y_data=data['activation'].values.tolist()\n",
    "labels = len(set(y_data))"
   ]
  },
  {
   "cell_type": "code",
   "execution_count": 180,
   "metadata": {
    "ExecuteTime": {
     "end_time": "2020-11-23T13:07:10.587043Z",
     "start_time": "2020-11-23T13:07:10.570529Z"
    }
   },
   "outputs": [
    {
     "name": "stderr",
     "output_type": "stream",
     "text": [
      "D:\\anaconda\\envs\\HW0\\lib\\site-packages\\ipykernel_launcher.py:5: SettingWithCopyWarning: \n",
      "A value is trying to be set on a copy of a slice from a DataFrame.\n",
      "Try using .loc[row_indexer,col_indexer] = value instead\n",
      "\n",
      "See the caveats in the documentation: https://pandas.pydata.org/pandas-docs/stable/user_guide/indexing.html#returning-a-view-versus-a-copy\n",
      "  \"\"\"\n"
     ]
    }
   ],
   "source": [
    "def del_zero(x):\n",
    "    return x-1\n",
    "\n",
    "tmp_data=data[data['activation']!=0]\n",
    "tmp_data['label']=tmp_data['activation'].apply(del_zero)\n",
    "x_data=tmp_data['cut'].values.tolist()\n",
    "y_data=tmp_data['label'].values.tolist()\n",
    "labels = len(set(y_data))    "
   ]
  },
  {
   "cell_type": "code",
   "execution_count": 181,
   "metadata": {
    "ExecuteTime": {
     "end_time": "2020-11-23T13:07:14.523975Z",
     "start_time": "2020-11-23T13:07:14.513992Z"
    }
   },
   "outputs": [],
   "source": [
    "from sklearn.model_selection import train_test_split\n",
    "x_train,x_test,y_train,y_test=train_test_split(x_data,\n",
    "                                               y_data,test_size=0.20,random_state=1)"
   ]
  },
  {
   "cell_type": "code",
   "execution_count": 7,
   "metadata": {
    "ExecuteTime": {
     "end_time": "2020-11-23T10:53:47.300710Z",
     "start_time": "2020-11-23T10:53:47.265699Z"
    }
   },
   "outputs": [
    {
     "name": "stdout",
     "output_type": "stream",
     "text": [
      "2526\n"
     ]
    }
   ],
   "source": [
    "vocab = set(chain(*x_data))\n",
    "vocab_size = len(vocab)\n",
    "print(vocab_size)"
   ]
  },
  {
   "cell_type": "code",
   "execution_count": 8,
   "metadata": {
    "ExecuteTime": {
     "end_time": "2020-11-23T10:53:47.931856Z",
     "start_time": "2020-11-23T10:53:47.874852Z"
    }
   },
   "outputs": [
    {
     "data": {
      "text/plain": [
       "288151"
      ]
     },
     "execution_count": 8,
     "metadata": {},
     "output_type": "execute_result"
    }
   ],
   "source": [
    "len(list(chain(*x_data)))"
   ]
  },
  {
   "cell_type": "markdown",
   "metadata": {},
   "source": [
    "# 切词长度288151，实际上只有2526个词汇"
   ]
  },
  {
   "cell_type": "code",
   "execution_count": 51,
   "metadata": {
    "ExecuteTime": {
     "end_time": "2020-11-23T11:11:02.242629Z",
     "start_time": "2020-11-23T11:11:02.233609Z"
    }
   },
   "outputs": [],
   "source": [
    "embed_size = 100\n",
    "num_hiddens = 64\n",
    "num_layers = 2\n",
    "bidirectional = True\n",
    "batch_size = 32\n",
    "lr = 0.001\n",
    "device = torch.device('cuda:0')\n",
    "use_gpu = True"
   ]
  },
  {
   "cell_type": "code",
   "execution_count": 13,
   "metadata": {
    "ExecuteTime": {
     "end_time": "2020-11-23T10:55:20.373193Z",
     "start_time": "2020-11-23T10:55:20.362173Z"
    }
   },
   "outputs": [],
   "source": [
    "word_to_idx = {word: i+1 for i, word in enumerate(vocab)}\n",
    "word_to_idx['<unk>'] = 0\n",
    "idx_to_word = {i+1: word for i, word in enumerate(vocab)}\n",
    "idx_to_word[0] = '<unk>'"
   ]
  },
  {
   "cell_type": "code",
   "execution_count": 14,
   "metadata": {
    "ExecuteTime": {
     "end_time": "2020-11-23T10:55:21.069892Z",
     "start_time": "2020-11-23T10:55:20.945841Z"
    }
   },
   "outputs": [
    {
     "name": "stderr",
     "output_type": "stream",
     "text": [
      "D:\\anaconda\\envs\\HW0\\lib\\site-packages\\ipykernel_launcher.py:8: UserWarning: The given NumPy array is not writeable, and PyTorch does not support non-writeable tensors. This means you can write to the underlying (supposedly non-writeable) NumPy array using the tensor. You may want to copy the array to protect its data or make it writeable before converting it to a tensor. This type of warning will be suppressed for the rest of this program. (Triggered internally at  ..\\torch\\csrc\\utils\\tensor_numpy.cpp:141.)\n",
      "  \n"
     ]
    }
   ],
   "source": [
    "weight = torch.zeros(vocab_size+1, embed_size)\n",
    "for i in range(len(wvmodel.index2word)):\n",
    "    try:\n",
    "        index = word_to_idx[wvmodel.index2word[i]]\n",
    "    except:\n",
    "        continue\n",
    "    weight[index, :] = torch.from_numpy(wvmodel.get_vector(\n",
    "        idx_to_word[word_to_idx[wvmodel.index2word[i]]]))"
   ]
  },
  {
   "cell_type": "code",
   "execution_count": 15,
   "metadata": {
    "ExecuteTime": {
     "end_time": "2020-11-23T10:55:40.707721Z",
     "start_time": "2020-11-23T10:55:40.698718Z"
    },
    "code_folding": []
   },
   "outputs": [],
   "source": [
    "def encode_samples(tokenized_samples):\n",
    "    features = []\n",
    "    for sample in tokenized_samples:\n",
    "        feature = []\n",
    "        for token in sample:\n",
    "            if token in word_to_idx:\n",
    "                feature.append(word_to_idx[token])\n",
    "            else:\n",
    "                feature.append(0)\n",
    "        features.append(feature)\n",
    "    return features"
   ]
  },
  {
   "cell_type": "code",
   "execution_count": 16,
   "metadata": {
    "ExecuteTime": {
     "end_time": "2020-11-23T10:55:41.564537Z",
     "start_time": "2020-11-23T10:55:41.553307Z"
    },
    "code_folding": []
   },
   "outputs": [],
   "source": [
    "def pad_samples(features, maxlen, PAD=0):\n",
    "    padded_features = []\n",
    "    for feature in features:\n",
    "        if len(feature) >= maxlen:\n",
    "            padded_feature = feature[:maxlen]\n",
    "        else:\n",
    "            padded_feature = feature\n",
    "            while(len(padded_feature) < maxlen):\n",
    "                padded_feature.append(PAD)\n",
    "        padded_features.append(padded_feature)\n",
    "    return padded_features"
   ]
  },
  {
   "cell_type": "code",
   "execution_count": 182,
   "metadata": {
    "ExecuteTime": {
     "end_time": "2020-11-23T13:07:21.547781Z",
     "start_time": "2020-11-23T13:07:21.489785Z"
    }
   },
   "outputs": [],
   "source": [
    "MAX=20\n",
    "train_features = torch.tensor(pad_samples(encode_samples(x_train),maxlen=MAX))\n",
    "train_labels = torch.tensor(y_train,dtype=torch.int64)\n",
    "test_features = torch.tensor(pad_samples(encode_samples(x_test),maxlen=MAX))\n",
    "test_labels = torch.tensor(y_test,dtype=torch.int64)"
   ]
  },
  {
   "cell_type": "code",
   "execution_count": 183,
   "metadata": {
    "ExecuteTime": {
     "end_time": "2020-11-23T13:07:22.551007Z",
     "start_time": "2020-11-23T13:07:22.540003Z"
    }
   },
   "outputs": [],
   "source": [
    "train_set = torch.utils.data.TensorDataset(train_features, train_labels)\n",
    "test_set = torch.utils.data.TensorDataset(test_features, test_labels)\n",
    "train_iter = torch.utils.data.DataLoader(train_set, batch_size=batch_size,\n",
    "                                         shuffle=True)\n",
    "test_iter = torch.utils.data.DataLoader(test_set, batch_size=batch_size,\n",
    "                                        shuffle=False)"
   ]
  },
  {
   "cell_type": "code",
   "execution_count": 184,
   "metadata": {
    "ExecuteTime": {
     "end_time": "2020-11-23T13:07:25.718917Z",
     "start_time": "2020-11-23T13:07:25.699911Z"
    },
    "code_folding": []
   },
   "outputs": [],
   "source": [
    "class SentimentNet(nn.Module):\n",
    "    def __init__(self, vocab_size, embed_size, num_hiddens, num_layers,\n",
    "                 bidirectional, weight, labels, use_gpu, **kwargs):\n",
    "        super(SentimentNet, self).__init__(**kwargs)\n",
    "        self.num_hiddens = num_hiddens\n",
    "        self.num_layers = num_layers\n",
    "        self.use_gpu = use_gpu\n",
    "        self.bidirectional = bidirectional\n",
    "        self.embedding = nn.Embedding.from_pretrained(weight)\n",
    "        self.embedding.weight.requires_grad = True\n",
    "        self.encoder = nn.LSTM(input_size=embed_size, hidden_size=self.num_hiddens,\n",
    "                               num_layers=num_layers, bidirectional=self.bidirectional,\n",
    "                               dropout=0)\n",
    "        if self.bidirectional:\n",
    "            self.FC1 = nn.Linear(num_hiddens * 4, num_hiddens)\n",
    "        else:\n",
    "            self.FC1 = nn.Linear(num_hiddens * 2, num_hiddens)\n",
    "        \n",
    "        self.decoder=nn.Sequential(\n",
    "            nn.Dropout(p=0.5),nn.ReLU(),nn.Linear(num_hiddens,labels))\n",
    "\n",
    "    def forward(self, inputs):\n",
    "        embeddings = self.embedding(inputs)\n",
    "        states, hidden = self.encoder(embeddings.permute([1, 0, 2]))\n",
    "        encoding = torch.cat([states[0], states[-1]], dim=1)\n",
    "        tmp = self.FC1(encoding)\n",
    "        outputs=self.decoder(tmp)\n",
    "        \n",
    "        return outputs,embeddings"
   ]
  },
  {
   "cell_type": "code",
   "execution_count": 162,
   "metadata": {
    "ExecuteTime": {
     "end_time": "2020-11-23T13:04:45.194238Z",
     "start_time": "2020-11-23T13:04:45.170234Z"
    },
    "code_folding": [
     0
    ]
   },
   "outputs": [],
   "source": [
    "class textCNN(nn.Module):\n",
    "    def __init__(self, vocab_size, embed_size, seq_len, labels, weight, **kwargs):\n",
    "        super(textCNN, self).__init__(**kwargs)\n",
    "        self.labels = labels\n",
    "        self.embedding = nn.Embedding.from_pretrained(weight)\n",
    "        self.embedding.weight.requires_grad = False\n",
    "        self.conv1 = nn.Conv2d(1, 1, (2, embed_size))\n",
    "        self.conv2 = nn.Conv2d(1, 1, (3, embed_size))\n",
    "        self.conv3 = nn.Conv2d(1, 1, (4, embed_size))\n",
    "        self.pool1 = nn.MaxPool2d((seq_len - 2 + 1, 1))\n",
    "        self.pool2 = nn.MaxPool2d((seq_len - 3 + 1, 1))\n",
    "        self.pool3 = nn.MaxPool2d((seq_len - 4 + 1, 1))\n",
    "        self.linear = nn.Linear(3, labels)\n",
    "\n",
    "    def forward(self, inputs):\n",
    "        inputs = self.embedding(inputs).view(inputs.shape[0], 1, inputs.shape[1], -1)\n",
    "        x1 = F.relu(self.conv1(inputs))\n",
    "        x2 = F.relu(self.conv2(inputs))\n",
    "        x3 = F.relu(self.conv3(inputs))\n",
    "\n",
    "        x1 = self.pool1(x1)\n",
    "        x2 = self.pool2(x2)\n",
    "        x3 = self.pool3(x3)\n",
    "\n",
    "        x = torch.cat((x1, x2, x3), -1)\n",
    "        x = x.view(inputs.shape[0], 1, -1)\n",
    "\n",
    "        x = self.linear(x)\n",
    "        x = x.view(-1, self.labels)\n",
    "\n",
    "        return(x)"
   ]
  },
  {
   "cell_type": "code",
   "execution_count": 163,
   "metadata": {
    "ExecuteTime": {
     "end_time": "2020-11-23T13:04:45.736358Z",
     "start_time": "2020-11-23T13:04:45.730360Z"
    },
    "code_folding": []
   },
   "outputs": [],
   "source": [
    "#net = textCNN(vocab_size=(vocab_size+1), embed_size=embed_size,\n",
    "#              seq_len=MAX, labels=labels, weight=weight)\n",
    "#net.to(device)\n",
    "#loss_function = nn.CrossEntropyLoss()\n",
    "#optimizer = optim.SGD(net.parameters(), lr=lr)"
   ]
  },
  {
   "cell_type": "code",
   "execution_count": 185,
   "metadata": {
    "ExecuteTime": {
     "end_time": "2020-11-23T13:07:30.230485Z",
     "start_time": "2020-11-23T13:07:30.193356Z"
    },
    "code_folding": []
   },
   "outputs": [],
   "source": [
    "model = SentimentNet(vocab_size=(vocab_size+1), embed_size=embed_size,\n",
    "                   num_hiddens=num_hiddens, num_layers=num_layers,\n",
    "                   bidirectional=bidirectional, weight=weight,\n",
    "                   labels=labels, use_gpu=use_gpu)\n",
    "model.to(device)\n",
    "criterion = nn.CrossEntropyLoss()\n",
    "optimizer = optim.Adam(model.parameters(), lr=lr)"
   ]
  },
  {
   "cell_type": "code",
   "execution_count": 186,
   "metadata": {
    "ExecuteTime": {
     "end_time": "2020-11-23T13:07:32.623551Z",
     "start_time": "2020-11-23T13:07:32.602549Z"
    },
    "code_folding": [
     0,
     7,
     35
    ]
   },
   "outputs": [],
   "source": [
    "def category_accuracy(preds, y):\n",
    "    #round predictions to the closest integer\n",
    "    rounded_preds = torch.max(preds,1)[1]\n",
    "    correct = (rounded_preds == y).float() #convert into float for division \n",
    "    acc = correct.sum() / len(correct)\n",
    "    return acc\n",
    "\n",
    "def train(model, iterator, optimizer, criterion):\n",
    "    \n",
    "    epoch_loss = 0\n",
    "    epoch_acc = 0\n",
    "    \n",
    "    model.train()\n",
    "    \n",
    "    for batch in iterator:\n",
    "        batch = tuple(t.to(device) for t in batch)\n",
    "        vectors,labels=batch\n",
    "        \n",
    "        optimizer.zero_grad()\n",
    "        \n",
    "        predictions,embeddings = model(vectors)\n",
    "        \n",
    "        loss = criterion(predictions, labels)\n",
    "        \n",
    "        acc = category_accuracy(predictions, labels)\n",
    "        \n",
    "        loss.backward()\n",
    "        \n",
    "        optimizer.step()\n",
    "        \n",
    "        epoch_loss += loss.item()\n",
    "        epoch_acc += acc.item()\n",
    "        \n",
    "    return epoch_loss / len(iterator),epoch_acc / len(iterator)\n",
    "\n",
    "def evaluate(model, iterator, criterion):\n",
    "    \n",
    "    epoch_loss = 0\n",
    "    epoch_acc = 0\n",
    "    \n",
    "    model.eval()\n",
    "    \n",
    "    with torch.no_grad():\n",
    "    \n",
    "        for batch in iterator:\n",
    "            batch = tuple(t.to(device) for t in batch)\n",
    "            vectors,labels=batch\n",
    "\n",
    "            predictions,embeddings = model(vectors)\n",
    "            \n",
    "            loss = criterion(predictions, labels)\n",
    "            \n",
    "            acc = category_accuracy(predictions, labels)\n",
    "\n",
    "            epoch_loss += loss.item()\n",
    "            epoch_acc += acc.item()\n",
    "        \n",
    "    return epoch_loss / len(iterator), epoch_acc / len(iterator)"
   ]
  },
  {
   "cell_type": "code",
   "execution_count": 187,
   "metadata": {
    "ExecuteTime": {
     "end_time": "2020-11-23T13:07:45.181086Z",
     "start_time": "2020-11-23T13:07:33.433734Z"
    },
    "code_folding": []
   },
   "outputs": [
    {
     "name": "stdout",
     "output_type": "stream",
     "text": [
      "epoch: 0, train loss: 0.9174, train acc: 0.5752, test loss: 0.9109, test acc: 0.5715, time: 0.53\n",
      "epoch: 1, train loss: 0.8211, train acc: 0.6454, test loss: 0.8829, test acc: 0.5715, time: 0.61\n",
      "epoch: 2, train loss: 0.8097, train acc: 0.6558, test loss: 0.9027, test acc: 0.5715, time: 0.55\n",
      "epoch: 3, train loss: 0.7815, train acc: 0.6572, test loss: 0.8420, test acc: 0.5715, time: 0.62\n",
      "epoch: 4, train loss: 0.7465, train acc: 0.6603, test loss: 0.8266, test acc: 0.5767, time: 0.56\n",
      "epoch: 5, train loss: 0.7360, train acc: 0.6671, test loss: 0.8303, test acc: 0.5767, time: 0.61\n",
      "epoch: 6, train loss: 0.6973, train acc: 0.6703, test loss: 0.8102, test acc: 0.5767, time: 0.61\n",
      "epoch: 7, train loss: 0.6803, train acc: 0.6753, test loss: 0.8222, test acc: 0.5767, time: 0.60\n",
      "epoch: 8, train loss: 0.6235, train acc: 0.6784, test loss: 0.8083, test acc: 0.5743, time: 0.55\n",
      "epoch: 9, train loss: 0.5040, train acc: 0.7708, test loss: 0.9224, test acc: 0.5743, time: 0.57\n",
      "epoch: 10, train loss: 0.4551, train acc: 0.7998, test loss: 0.9966, test acc: 0.6231, time: 0.58\n",
      "epoch: 11, train loss: 0.3538, train acc: 0.8727, test loss: 0.9291, test acc: 0.6520, time: 0.60\n",
      "epoch: 12, train loss: 0.2443, train acc: 0.9226, test loss: 1.0197, test acc: 0.6468, time: 0.61\n",
      "epoch: 13, train loss: 0.2169, train acc: 0.9257, test loss: 1.1241, test acc: 0.6757, time: 0.63\n",
      "epoch: 14, train loss: 0.2199, train acc: 0.9275, test loss: 1.1465, test acc: 0.6657, time: 0.58\n",
      "epoch: 15, train loss: 0.2173, train acc: 0.9239, test loss: 1.1526, test acc: 0.6501, time: 0.61\n",
      "epoch: 16, train loss: 0.1517, train acc: 0.9547, test loss: 1.2770, test acc: 0.6293, time: 0.59\n",
      "epoch: 17, train loss: 0.1375, train acc: 0.9561, test loss: 1.5072, test acc: 0.6496, time: 0.56\n",
      "epoch: 18, train loss: 0.1329, train acc: 0.9583, test loss: 1.4918, test acc: 0.6496, time: 0.56\n",
      "epoch: 19, train loss: 0.1008, train acc: 0.9669, test loss: 1.6939, test acc: 0.6856, time: 0.55\n"
     ]
    }
   ],
   "source": [
    "N_EPOCHS = 20\n",
    "\n",
    "best_valid_loss = float('inf')\n",
    "trainacc,val_acc,trainloss,val_loss=[],[],[],[]\n",
    "\n",
    "for epoch in range(N_EPOCHS):\n",
    "    \n",
    "    start = time.time()\n",
    "    \n",
    "    train_loss,train_acc= train(model, train_iter, optimizer, criterion)\n",
    "    valid_loss,valid_acc = evaluate(model, test_iter, criterion)\n",
    "        \n",
    "    end = time.time()\n",
    "        \n",
    "    runtime = end - start\n",
    "        \n",
    "    if valid_loss < best_valid_loss:\n",
    "        best_valid_loss = valid_loss\n",
    "        torch.save(model.state_dict(), 'lstm-model.pt')\n",
    "    trainacc.append(train_acc)\n",
    "    val_acc.append(valid_acc)\n",
    "    trainloss.append(train_loss)\n",
    "    val_loss.append(valid_loss)\n",
    "    #print(f'Epoch: {epoch+1:02} | Epoch Time: {epoch_mins}m {epoch_secs}s')\n",
    "    #print(f'\\tTrain Loss: {train_loss:.3f} | Train Acc: {train_acc*100:.2f}%')\n",
    "    #print(f'\\t Val. Loss: {valid_loss:.3f} |  Val. Acc: {valid_acc*100:.2f}%')\n",
    "    print('epoch: %d, train loss: %.4f, train acc: %.4f, test loss: %.4f, test acc: %.4f, time: %.2f' %\n",
    "      (epoch, train_loss, train_acc, valid_loss,valid_acc, runtime))"
   ]
  },
  {
   "cell_type": "code",
   "execution_count": 188,
   "metadata": {
    "ExecuteTime": {
     "end_time": "2020-11-23T13:07:48.473593Z",
     "start_time": "2020-11-23T13:07:47.738410Z"
    },
    "scrolled": true
   },
   "outputs": [
    {
     "data": {
      "image/png": "[encoded data removed]",
      "text/plain": [
       "<Figure size 432x288 with 1 Axes>"
      ]
     },
     "metadata": {
      "needs_background": "light"
     },
     "output_type": "display_data"
    },
    {
     "data": {
      "image/png": "[encoded data removed]",
      "text/plain": [
       "<Figure size 432x288 with 1 Axes>"
      ]
     },
     "metadata": {
      "needs_background": "light"
     },
     "output_type": "display_data"
    }
   ],
   "source": [
    "import matplotlib.pyplot as plt\n",
    "# 绘制训练 \n",
    "plt.plot(trainacc)\n",
    "plt.plot(val_acc)\n",
    "plt.title('Model accuracy')\n",
    "plt.ylabel('Accuracy')\n",
    "plt.xlabel('Epoch')\n",
    "plt.legend(['Train', 'Test'], loc='upper left')\n",
    "plt.show()\n",
    "\n",
    "# 绘制训练 & 验证的损失值\n",
    "plt.plot(trainloss)\n",
    "plt.plot(val_loss)\n",
    "plt.title('Model loss')\n",
    "plt.ylabel('Loss')\n",
    "plt.xlabel('Epoch')\n",
    "plt.legend(['Train', 'Test'], loc='upper left')\n",
    "plt.show()"
   ]
  },
  {
   "cell_type": "code",
   "execution_count": 189,
   "metadata": {
    "ExecuteTime": {
     "end_time": "2020-11-23T13:07:57.273364Z",
     "start_time": "2020-11-23T13:07:57.194304Z"
    }
   },
   "outputs": [],
   "source": [
    "def get_feature(model, iterator,labels):\n",
    "    model.eval()\n",
    "    labels=labels\n",
    "    with torch.no_grad():\n",
    "        \n",
    "        origin=torch.zeros([1,MAX*embed_size],dtype=torch.float)\n",
    "        output=torch.zeros([1,labels],dtype=torch.float)\n",
    "        label=torch.zeros([1],dtype=torch.int64)\n",
    "        tmp_origin=origin\n",
    "        tmp_output=output\n",
    "        for batch in iterator:\n",
    "            batch = tuple(t.to(device) for t in batch)\n",
    "            vectors,label_list=batch\n",
    "            predictions,embeddings = model(vectors)\n",
    "            embedding=embeddings.view(embeddings.size()[0],embeddings.size()[1]*embeddings.size()[2])\n",
    "            tmp_output=torch.cat((tmp_output,predictions.cpu().data),0)\n",
    "            tmp_origin=torch.cat((tmp_origin,embedding.cpu().data),0)\n",
    "            #print(label_list.size())\n",
    "            label=torch.cat((label,label_list.cpu().data),0)\n",
    "    return tmp_origin,tmp_output,label\n",
    "\n",
    "model.load_state_dict(torch.load('lstm-model.pt'))\n",
    "begin,end,label=get_feature(model,test_iter,labels)"
   ]
  },
  {
   "cell_type": "code",
   "execution_count": 190,
   "metadata": {
    "ExecuteTime": {
     "end_time": "2020-11-23T13:07:59.698045Z",
     "start_time": "2020-11-23T13:07:59.692022Z"
    }
   },
   "outputs": [],
   "source": [
    "X=end.numpy()[1:,]\n",
    "\n",
    "Y=label.numpy()[1:,]"
   ]
  },
  {
   "cell_type": "code",
   "execution_count": 191,
   "metadata": {
    "ExecuteTime": {
     "end_time": "2020-11-23T13:08:01.424531Z",
     "start_time": "2020-11-23T13:08:00.466213Z"
    }
   },
   "outputs": [],
   "source": [
    "tsne = manifold.TSNE(n_components=2, init='pca', random_state=501)\n",
    "X_tsne = tsne.fit_transform(X)"
   ]
  },
  {
   "cell_type": "code",
   "execution_count": 192,
   "metadata": {
    "ExecuteTime": {
     "end_time": "2020-11-23T13:08:03.244023Z",
     "start_time": "2020-11-23T13:08:01.906652Z"
    }
   },
   "outputs": [
    {
     "data": {
      "image/png": "[encoded data removed]",
      "text/plain": [
       "<Figure size 720x720 with 1 Axes>"
      ]
     },
     "metadata": {},
     "output_type": "display_data"
    }
   ],
   "source": [
    "x_min, x_max = X_tsne.min(0), X_tsne.max(0)\n",
    "X_norm = (X_tsne - x_min) / (x_max - x_min)  # 归一化\n",
    "plt.figure(figsize=(10, 10))\n",
    "for i in range(X_norm.shape[0]):\n",
    "    plt.text(X_norm[i, 0], X_norm[i, 1], str(Y[i]), color=plt.cm.Set1(Y[i]), \n",
    "             fontdict={'weight': 'bold', 'size': 9})\n",
    "plt.xticks([])\n",
    "plt.yticks([])\n",
    "plt.show()"
   ]
  },
  {
   "cell_type": "code",
   "execution_count": null,
   "metadata": {},
   "outputs": [],
   "source": []
  }
 ],
 "metadata": {
  "kernelspec": {
   "display_name": "Python 3",
   "language": "python",
   "name": "python3"
  },
  "language_info": {
   "codemirror_mode": {
    "name": "ipython",
    "version": 3
   },
   "file_extension": ".py",
   "mimetype": "text/x-python",
   "name": "python",
   "nbconvert_exporter": "python",
   "pygments_lexer": "ipython3",
   "version": "3.7.8"
  },
  "latex_envs": {
   "LaTeX_envs_menu_present": true,
   "autoclose": false,
   "autocomplete": true,
   "bibliofile": "biblio.bib",
   "cite_by": "apalike",
   "current_citInitial": 1,
   "eqLabelWithNumbers": true,
   "eqNumInitial": 1,
   "hotkeys": {
    "equation": "Ctrl-E",
    "itemize": "Ctrl-I"
   },
   "labels_anchors": false,
   "latex_user_defs": false,
   "report_style_numbering": false,
   "user_envs_cfg": false
  },
  "varInspector": {
   "cols": {
    "lenName": 16,
    "lenType": 16,
    "lenVar": 40
   },
   "kernels_config": {
    "python": {
     "delete_cmd_postfix": "",
     "delete_cmd_prefix": "del ",
     "library": "var_list.py",
     "varRefreshCmd": "print(var_dic_list())"
    },
    "r": {
     "delete_cmd_postfix": ") ",
     "delete_cmd_prefix": "rm(",
     "library": "var_list.r",
     "varRefreshCmd": "cat(var_dic_list()) "
    }
   },
   "types_to_exclude": [
    "module",
    "function",
    "builtin_function_or_method",
    "instance",
    "_Feature"
   ],
   "window_display": false
  }
 },
 "nbformat": 4,
 "nbformat_minor": 4
}
